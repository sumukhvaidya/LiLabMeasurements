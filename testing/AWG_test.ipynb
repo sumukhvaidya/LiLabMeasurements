{
 "cells": [
  {
   "cell_type": "code",
   "execution_count": 4,
   "id": "0a3c3ebc",
   "metadata": {},
   "outputs": [
    {
     "data": {
      "text/plain": [
       "<module 'AWG_Measurements' from 'C:\\\\Users\\\\Li_Lab_B12\\\\Desktop\\\\DataSumukh\\\\250731_PythonCode\\\\dev\\\\AWG_Measurements.py'>"
      ]
     },
     "execution_count": 4,
     "metadata": {},
     "output_type": "execute_result"
    }
   ],
   "source": [
    "import pulsestreamer\n",
    "import pyvisa\n",
    "import numpy as np\n",
    "import sys\n",
    "from importlib import reload\n",
    "import matplotlib.pyplot as plt\n",
    "from zhinst.toolkit import Session,  Waveforms\n",
    "from zhinst.toolkit import CommandTable\n",
    "\n",
    "directory_path = \"C:\\\\Users\\\\Li_Lab_B12\\\\Desktop\\\\DataSumukh\\\\250731_PythonCode\\\\dev\"\n",
    "sys.path.append(directory_path)\n",
    "\n",
    "directory_path2 = \"C:\\\\Users\\\\Li_Lab_B12\\\\Desktop\\\\DataSumukh\\\\250731_PythonCode\\\\main\"\n",
    "sys.path.append(directory_path2)\n",
    "\n",
    "import AWG_Measurements\n",
    "reload(AWG_Measurements)"
   ]
  },
  {
   "cell_type": "markdown",
   "id": "7d383043",
   "metadata": {},
   "source": [
    "### Initialize all instruments for use"
   ]
  },
  {
   "cell_type": "code",
   "execution_count": 6,
   "id": "c6c85866",
   "metadata": {},
   "outputs": [
    {
     "name": "stdout",
     "output_type": "stream",
     "text": [
      "Connect to Pulse Streamer via JSON-RPC.\n",
      "IP / Hostname: 192.168.0.100\n",
      "Pulse Streamer 8/2 firmware: v1.7.2\n",
      "Client software: v1.7.0\n"
     ]
    }
   ],
   "source": [
    "# PulseStreamer\n",
    "pulsestreamer_ip = '192.168.0.100'\n",
    "ps = pulsestreamer.PulseStreamer(pulsestreamer_ip)\n",
    "ps.reset()\n",
    "\n",
    "# Function Generator\n",
    "rm = pyvisa.ResourceManager()\n",
    "sg386 = rm.open_resource('GPIB0::27::INSTR')\n",
    "sg386.write('ENBR 1')\n",
    "\n",
    "# AWG\n",
    "AWG_id='DEV9175'\n",
    "AWG_server_host = 'localhost'\n",
    "session = Session(AWG_server_host)\n",
    "### connect to device\n",
    "device = session.connect_device(AWG_id)\n",
    "AWG_INDEX = 0 #use channel 1&2 for 2*2\n",
    "awg = device.awgs[AWG_INDEX]"
   ]
  },
  {
   "cell_type": "code",
   "execution_count": null,
   "id": "f9781055",
   "metadata": {},
   "outputs": [],
   "source": [
    "AWG_rabi_config = {\n",
    "'nu': 100,\n",
    "'n_points': 100,\n",
    "'tau_step': 1.25e-3, # in microsecond\n",
    "'tau_start': 5e-3, # in microsecond\n",
    "'laser_initialization_time': 50, # microseconds\n",
    "'num_avgs': 1,\n",
    "}"
   ]
  }
 ],
 "metadata": {
  "kernelspec": {
   "display_name": "lilab",
   "language": "python",
   "name": "python3"
  },
  "language_info": {
   "codemirror_mode": {
    "name": "ipython",
    "version": 3
   },
   "file_extension": ".py",
   "mimetype": "text/x-python",
   "name": "python",
   "nbconvert_exporter": "python",
   "pygments_lexer": "ipython3",
   "version": "3.13.5"
  }
 },
 "nbformat": 4,
 "nbformat_minor": 5
}
